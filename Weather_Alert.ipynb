{
 "cells": [
  {
   "cell_type": "markdown",
   "id": "8193d363-d65e-4b4f-9519-4ab1ea4e8a74",
   "metadata": {},
   "source": [
    "<h1 style=\"font-size:4rem;color:orange;\"> Weather Alert </h1>"
   ]
  },
  {
   "cell_type": "markdown",
   "id": "1b4754e7-bf7b-4d06-98f7-8215cf47c70c",
   "metadata": {},
   "source": [
    "## This program checks the weather at a specific location and sends a push notification at 6 am if it's below 30° F, snowing, or raining. With this alert, you'll be prepared for the weather ahead on the days it matters most!"
   ]
  },
  {
   "cell_type": "markdown",
   "id": "b9f9bc9b-664a-456d-ae98-3475f8769726",
   "metadata": {},
   "source": [
    "## Project Setup"
   ]
  },
  {
   "cell_type": "markdown",
   "id": "bfcfa720-c419-4804-96e6-9cc9733292a2",
   "metadata": {},
   "source": [
    "1) Create an account with **OpenWeatherMap** and generate an API Key. This enables you to access weather data from OpenWeatherMap. \n",
    "2) Create an account with **Pushbullet**, so you can send push notifications to your phone. Note that you must install the Pushbullet app on your phone and enable notification access. "
   ]
  },
  {
   "cell_type": "markdown",
   "id": "e5bea0a3-9a0b-4600-926f-5dc7c7f4d12b",
   "metadata": {},
   "source": [
    "## Imports"
   ]
  },
  {
   "cell_type": "code",
   "execution_count": null,
   "id": "ac0b081d-9e14-4b84-ad26-764d56fbfdc6",
   "metadata": {},
   "outputs": [],
   "source": [
    "import requests \n",
    "import schedule \n",
    "import time as tm \n",
    "from pushbullet import Pushbullet "
   ]
  },
  {
   "cell_type": "markdown",
   "id": "520bb461-678c-4088-88dd-f88c8e1d1ee5",
   "metadata": {},
   "source": [
    "# Weather Data Collection"
   ]
  },
  {
   "cell_type": "markdown",
   "id": "5e258df1-3c3d-4e59-9da7-786470cc8129",
   "metadata": {},
   "source": [
    "Prior to requesting weather data from the OpenWeatherMap API, specify the url an API request should be sent to. This url consists of a base url, Weather API Key, and city. **Please edit \"WEATHER_API_KEY\" with your OpenWeather Map API Key and \"CITY\" with any location you choose.**"
   ]
  },
  {
   "cell_type": "code",
   "execution_count": null,
   "id": "fbafb2e0-f3d6-4196-85ad-af4707932a2a",
   "metadata": {},
   "outputs": [],
   "source": [
    "BASE_URL = \"http://api.openweathermap.org/data/2.5/weather?\"\n",
    "WEATHER_API_KEY = \"\"\n",
    "CITY = \"New York City\"\n",
    "url = BASE_URL + \"appid=\" + WEATHER_API_KEY + \"&q=\" + CITY"
   ]
  },
  {
   "cell_type": "markdown",
   "id": "1d3cc79b-c6ee-44b2-9a44-ca3cc2dbd8c8",
   "metadata": {},
   "source": [
    "### Weather Function"
   ]
  },
  {
   "cell_type": "markdown",
   "id": "524024d0-a187-4fe3-802c-b249e3dd1754",
   "metadata": {},
   "source": [
    "The **weather** function sends an API request to the url and stores the weather data it receives as a dictionary in the variable response."
   ]
  },
  {
   "cell_type": "code",
   "execution_count": null,
   "id": "a060a4bb-3428-4095-bd6a-dc09753f4315",
   "metadata": {},
   "outputs": [],
   "source": [
    "def weather():\n",
    "    response = requests.get(url).json()     \n",
    "    return response"
   ]
  },
  {
   "cell_type": "markdown",
   "id": "263288be-d379-4cc8-baf0-bfd7622a11ca",
   "metadata": {},
   "source": [
    "Let's see what the data looks like by calling the weather function."
   ]
  },
  {
   "cell_type": "code",
   "execution_count": null,
   "id": "f1d3d580-77bd-4a13-9b13-192e4fa30aba",
   "metadata": {},
   "outputs": [],
   "source": [
    "weather()"
   ]
  },
  {
   "cell_type": "markdown",
   "id": "58182193-0afe-4324-903c-8a2907d4e85b",
   "metadata": {},
   "source": [
    "We can see that information such as coordinates, wind speed, and temperatures are stored in a dictionary. However, the temperatures are in Kelvin and should be converted to Fahrenheit, so we can set a threshold of 30°F later on. "
   ]
  },
  {
   "cell_type": "markdown",
   "id": "e296eea0-4ac2-4b09-a5b0-1f196d7f17c3",
   "metadata": {},
   "source": [
    "### Kelvin to Fahrenheit Function"
   ]
  },
  {
   "cell_type": "markdown",
   "id": "676e5bbe-549a-4df1-bd5a-832fe3a7de75",
   "metadata": {},
   "source": [
    "The function **kelvin_to_fahrenheit** converts temperatures from Kelvin to Fahrenheit based on the formula below"
   ]
  },
  {
   "cell_type": "markdown",
   "id": "6368f018-813d-4c4a-8b46-f0a7345ca575",
   "metadata": {},
   "source": [
    "$$ Fahrenheit = (Kelvin - 273.15) \\times \\frac{9}{5} + 32 $$"
   ]
  },
  {
   "cell_type": "code",
   "execution_count": null,
   "id": "0329a0f7-85f6-43e8-8f64-5a20da9968e0",
   "metadata": {},
   "outputs": [],
   "source": [
    "def kelvin_to_fahrenheit(kelvin):\n",
    "    fahrenheit = (kelvin-273.15) * (9/5) + 32\n",
    "    return fahrenheit"
   ]
  },
  {
   "cell_type": "markdown",
   "id": "3f531243-8de5-494d-a3ba-6bd47f9211a9",
   "metadata": {},
   "source": [
    "Here's an example of the 300 Kelvin being converted to 80.33° F"
   ]
  },
  {
   "cell_type": "code",
   "execution_count": null,
   "id": "54619343-6dd6-45cb-a54a-b42cba6c1ce2",
   "metadata": {},
   "outputs": [],
   "source": [
    "kelvin_to_fahrenheit(300)"
   ]
  },
  {
   "cell_type": "markdown",
   "id": "fe83afb3-3a4c-46c2-9004-b2a7389a7d98",
   "metadata": {},
   "source": [
    "# Push Notification System "
   ]
  },
  {
   "cell_type": "markdown",
   "id": "d96067ca-14ac-48f0-ab49-67acfc99b43a",
   "metadata": {},
   "source": [
    "Record your specific Pushbullet API Key in \"PUSHBULLET_API_KEY\""
   ]
  },
  {
   "cell_type": "code",
   "execution_count": null,
   "id": "ea3ca7a5-9fb0-4361-a570-a011068985ed",
   "metadata": {},
   "outputs": [],
   "source": [
    "PUSHBULLET_API_KEY = \"\""
   ]
  },
  {
   "cell_type": "markdown",
   "id": "cb5a0f5b-3a4f-418b-8038-828835ecad15",
   "metadata": {},
   "source": [
    "The **send_notification** function send a push notification to your phone with a title, message, and image using Pushubullet"
   ]
  },
  {
   "cell_type": "code",
   "execution_count": null,
   "id": "1b63c206-439b-4e72-a46f-1572d938ae93",
   "metadata": {},
   "outputs": [],
   "source": [
    "def send_notification(title,message,image_filename):\n",
    "    pb = Pushbullet(PUSHBULLET_API_KEY)\n",
    "    with open(image_filename, 'rb') as f:\n",
    "        file_data = pb.upload_file(f, image_filename)\n",
    "    pb.push_file(**file_data,title=title,body=message)"
   ]
  },
  {
   "cell_type": "markdown",
   "id": "acdcbf5d-ef7a-446d-a6a7-7b5d2faaa1a1",
   "metadata": {},
   "source": [
    "# Checking for Weather that is below 30° F, Snowing, or Raining"
   ]
  },
  {
   "cell_type": "markdown",
   "id": "a5b16242-d5cf-4412-824e-f714e68188dc",
   "metadata": {},
   "source": [
    "The function **check_weather_conditions** is designed to monitor the weather conditions and send tailored notifications based on certain criteria (snowing, raining, below 30° F)."
   ]
  },
  {
   "cell_type": "markdown",
   "id": "6fbbe3f3-c6e6-4409-b0f0-7dc74a38d52d",
   "metadata": {},
   "source": [
    "**6 possible qualifying weather conditions** are checked to determine the appropriate message and image to send: \n",
    "1) If the temperature is below or equal to 30°F and it's snowing\n",
    "2) If the temperature is below or equal to 30°F and it's raining\n",
    "3) If the temperature is below or equal to 30°F\n",
    "4) If it snowing\n",
    "5) If it is raining\n",
    "6) If the temperature is something else that doesn't meet the criteria above"
   ]
  },
  {
   "cell_type": "code",
   "execution_count": null,
   "id": "18c75fea-94dc-4f3e-a34b-8556bb1d89d6",
   "metadata": {},
   "outputs": [],
   "source": [
    "def check_weather_conditions():\n",
    "    data = weather()\n",
    "    temp_kelvin = data['main']['temp']\n",
    "    temp_fahrenheit = kelvin_to_fahrenheit(temp_kelvin)\n",
    "    description = data['weather'][0]['description']\n",
    "    weather_description_rain = ['shower rain', 'rain', 'thunderstorm', 'thunderstorm with light rain', 'thunderstorm with rain', 'thunderstorm with heavy rain', 'light thunderstorm', 'heavy thunderstorm', 'ragged thunderstorm', 'thunderstorm with light drizzle', 'thunderstorm with drizzle', 'thunderstorm with heavy drizzle', 'light rain', 'moderate rain', 'heavy intensity rain', 'very heavy rain', 'extreme rain', 'freezing rain', 'light intensity shower rain', 'shower rain', 'heavy intensity shower rain', 'ragged shower rain' ]\n",
    "    weather_description_snow = ['light snow', 'snow', 'heavy snow', 'sleet', 'light shower sleet', 'shower sleet', 'light rain and snow', 'rain and snow', 'light shower snow', 'shower snow', 'heavy shower snow']\n",
    "\n",
    "    if temp_fahrenheit <=30 and description.lower() in weather_description_snow:\n",
    "        message = f\"It's below 30 degrees today and snowing! Who needs a freezer when you have the great outdoors?\"\n",
    "        send_notification(\"Weather Alert:\", message,\"Snow_and_Below30.jfif\")\n",
    "    elif temp_fahrenheit <=30 and description.lower() in weather_description_rain:\n",
    "        message = f\"It's below 30 degrees today and raining! We're getting free ice kisses from the sky.\"\n",
    "        send_notification(\"Weather Alert:\", message, \"Rain_and_Below30.jpg\")\n",
    "\n",
    "    elif temp_fahrenheit <= 30:\n",
    "        message = f\"It's below 30 degrees today - Bundle up unless you want to be a human icicle!\"\n",
    "        send_notification(\"Weather Alert:\", message, \"Below30.jpg\")\n",
    "\n",
    "    elif description.lower() in weather_description_snow:\n",
    "        message = f\"Snow, snow, and more snow! Looks like mother nature's dandruff is acting up again!\"\n",
    "        send_notification(\"Weather Alert:\", message, \"snow.jpg\")\n",
    "\n",
    "    elif description.lower() in weather_description_rain:\n",
    "        message = f\"Don't forget an umbrella it's raining today!\"\n",
    "        send_notification(\"Weather Alert:\", message, \"rain.jpg\")\n",
    "   \n",
    "    else:\n",
    "        pass\n",
    "    "
   ]
  },
  {
   "cell_type": "markdown",
   "id": "6a1c319f-ab41-42cc-b3b2-ef71c5264089",
   "metadata": {},
   "source": [
    "Below are some sample push notifications if it was snowing, raining, or below 30°F. Note these messages and images are intended to be funny in contrast to the weather."
   ]
  },
  {
   "cell_type": "markdown",
   "id": "e5ce7636-e928-4602-a45e-c72b40b817f6",
   "metadata": {},
   "source": [
    "<img src=\"Push Notifications.png\" alt=\"Image Description\" style=\"width: 1000px;\"/>"
   ]
  },
  {
   "cell_type": "markdown",
   "id": "2ac7ed4c-038d-4659-a88a-9bb48886ef35",
   "metadata": {},
   "source": [
    "# Scheduling the program to run every day at 6 am"
   ]
  },
  {
   "cell_type": "markdown",
   "id": "04d65ad2-eb21-4b19-a95c-f1eeb2aa0a75",
   "metadata": {},
   "source": [
    "The **schedule library** runs the check_weather_conditions function everyday at 6 am in order to automate the process of monitoring the weather and sending push notifications accordingly. Note that this code is designed to run on a local machine and can only work while your laptop is on. For continous execution of this script offline, it would need to be deployed to a cloud based service such as AWS Lambda, Google Cloud Functions, or Azure functions.  "
   ]
  },
  {
   "cell_type": "code",
   "execution_count": null,
   "id": "5dc5fdea-2a4c-425b-afee-88dc172604ac",
   "metadata": {},
   "outputs": [],
   "source": [
    "schedule.every().day.at(\"06:00\").do(check_weather_conditions)\n",
    "\n",
    "while True:\n",
    "    schedule.run_pending()\n",
    "    tm.sleep(1)"
   ]
  },
  {
   "cell_type": "markdown",
   "id": "97fc34da-7e0d-43eb-bb7f-103f6dad933b",
   "metadata": {},
   "source": [
    "# Conclusion"
   ]
  },
  {
   "cell_type": "markdown",
   "id": "e04c6435-baa3-48f6-b9f7-945ca0d88095",
   "metadata": {},
   "source": [
    "This project creates a functional weather alert system that provides notifications based on if it's raining, snowing, or freezing early in the morning. It helps you stay informed about changing weather conditions and helps you prepare for the weather ahead. This alert system can be refined even further by integrating weather data from multiple sources to improve accuracy or by allowing the user to customize the weather criteria on a more user friendly interface."
   ]
  }
 ],
 "metadata": {
  "kernelspec": {
   "display_name": "Python 3 (ipykernel)",
   "language": "python",
   "name": "python3"
  },
  "language_info": {
   "codemirror_mode": {
    "name": "ipython",
    "version": 3
   },
   "file_extension": ".py",
   "mimetype": "text/x-python",
   "name": "python",
   "nbconvert_exporter": "python",
   "pygments_lexer": "ipython3",
   "version": "3.12.0"
  }
 },
 "nbformat": 4,
 "nbformat_minor": 5
}
